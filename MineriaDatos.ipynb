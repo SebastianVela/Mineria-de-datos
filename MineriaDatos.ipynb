{
 "cells": [
  {
   "cell_type": "markdown",
   "metadata": {},
   "source": [
    "   \n",
    "<h1> Marlijar Hurtado Moreno - Jhon Sebastián Vela Salcedo <h1> \n"
   ]
  },
  {
   "cell_type": "markdown",
   "metadata": {},
   "source": [
    "Vamos a clasificar la pobreza en Colombia, por medio de la pobreza multidimensional.\n",
    "\n",
    "\"La medición de la pobreza se hace tradicionalmente de forma directa e indirecta, siguiendo la\n",
    "clasificación de Amartya Sen (1981). El método directo evalúa los resultados de satisfacción (o\n",
    "no privación) que tiene un individuo respecto a ciertas características que se consideran\n",
    "vitales como salud, educación, empleo, entre otras. La medición indirecta evalúa la capacidad\n",
    "de adquisición de bienes y servicios que tienen los hogares. \" DANE"
   ]
  },
  {
   "cell_type": "code",
   "execution_count": null,
   "metadata": {},
   "outputs": [],
   "source": []
  },
  {
   "cell_type": "code",
   "execution_count": null,
   "metadata": {},
   "outputs": [],
   "source": []
  },
  {
   "cell_type": "code",
   "execution_count": null,
   "metadata": {},
   "outputs": [],
   "source": []
  },
  {
   "cell_type": "code",
   "execution_count": null,
   "metadata": {},
   "outputs": [],
   "source": []
  },
  {
   "cell_type": "code",
   "execution_count": null,
   "metadata": {},
   "outputs": [],
   "source": []
  },
  {
   "cell_type": "code",
   "execution_count": null,
   "metadata": {},
   "outputs": [],
   "source": []
  }
 ],
 "metadata": {
  "kernelspec": {
   "display_name": "Python 3",
   "language": "python",
   "name": "python3"
  },
  "language_info": {
   "codemirror_mode": {
    "name": "ipython",
    "version": 3
   },
   "file_extension": ".py",
   "mimetype": "text/x-python",
   "name": "python",
   "nbconvert_exporter": "python",
   "pygments_lexer": "ipython3",
   "version": "3.7.6"
  }
 },
 "nbformat": 4,
 "nbformat_minor": 4
}
